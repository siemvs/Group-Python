{
 "cells": [
  {
   "cell_type": "markdown",
   "id": "4a286281-f2b9-48a1-b580-752fbc1d7b46",
   "metadata": {},
   "source": [
    "## Hakathon\n",
    "\n",
    "**16/10/2024\n",
    "\n",
    "\n"
   ]
  },
  {
   "cell_type": "code",
   "execution_count": 4,
   "id": "ef6d8c5e-e058-46db-b57a-ab670afa0fb4",
   "metadata": {},
   "outputs": [],
   "source": [
    "##importing csv files and help packages -> EXPLORATORY ANALYSIS\n",
    "from IPython.display import IFrame # import iFrame\n",
    "import numpy as np\n",
    "import scipy as sp\n",
    "import seaborn as sns\n",
    "import matplotlib as mpl\n",
    "import matplotlib.cm as cm\n",
    "import matplotlib.pyplot as plt\n",
    "import pandas as pd\n",
    "import pysal as ps\n",
    "from pysal.lib import weights\n",
    "from pysal.explore import esda\n",
    "from splot.esda import moran_scatterplot, lisa_cluster, plot_local_autocorrelation\n",
    "from libpysal.io import open as psopen\n",
    "from libpysal.weights import DistanceBand \n",
    "import geopandas as gpd\n",
    "import contextily as ctx\n",
    "import time\n",
    "import warnings\n",
    "warnings.filterwarnings('ignore')\n",
    "import statsmodels\n",
    "from sklearn.model_selection import train_test_split\n",
    "from statsmodels.stats.proportion import proportions_ztest\n",
    "%matplotlib inline"
   ]
  },
  {
   "cell_type": "code",
   "execution_count": 11,
   "id": "2a02f7bb-c0cf-4804-8336-e6ab8fee65e8",
   "metadata": {},
   "outputs": [],
   "source": [
    "h= pd.read_excel('C:/Users/cayap/Downloads/HackathonData/Housing.xlsx')\n",
    "s= pd.read_excel('C:/Users/cayap/Downloads/HackathonData/Socio-economic status.xlsx')\n",
    "pop= pd.read_excel('C:/Users/cayap/Downloads/HackathonData/Population.xlsx')\n",
    "par= pd.read_excel('C:/Users/cayap/Downloads/HackathonData/Participation.xlsx')\n",
    "\n",
    "\n"
   ]
  },
  {
   "cell_type": "code",
   "execution_count": 13,
   "id": "c05099c9-5981-4016-8ee4-f3647947e933",
   "metadata": {},
   "outputs": [
    {
     "name": "stdout",
     "output_type": "stream",
     "text": [
      "  Area code  Living space: % 100 m2+  Average number of residents\n",
      "0        AA                     19.1                         1.62\n",
      "1        AB                     11.1                         1.47\n",
      "2        AC                     38.8                         1.47\n",
      "3        AD                     14.9                         1.35\n",
      "4        AE                     18.1                         1.52\n"
     ]
    }
   ],
   "source": [
    "# Select specific columns by their names in Housing file\n",
    "h_selected = h[['Area code', 'Living space: % 100 m2+', 'Average number of residents']]\n",
    "\n",
    "# Display the DataFrame with only the selected columns\n",
    "print(h_selected.head())"
   ]
  },
  {
   "cell_type": "code",
   "execution_count": 21,
   "id": "b3102042-7bff-4553-b294-816110383cad",
   "metadata": {},
   "outputs": [
    {
     "name": "stdout",
     "output_type": "stream",
     "text": [
      "  Area code  SES high (%) Social cohesion (1-10)\n",
      "0        AA            49                    6.2\n",
      "1        AB            49                    6.2\n",
      "2        AC            63                      6\n",
      "3        AD            53                    5.4\n",
      "4        AE            49                    5.6\n"
     ]
    }
   ],
   "source": [
    "# Select specific columns by their names in the Housing file\n",
    "s_selected = s[['Area code','SES high (%)', 'Social cohesion (1-10)']]\n",
    "\n",
    "# Display the DataFrame with only the selected columns\n",
    "print(s_selected.head())"
   ]
  },
  {
   "cell_type": "code",
   "execution_count": 22,
   "id": "139c809e-5d21-4264-aabd-219685764347",
   "metadata": {},
   "outputs": [
    {
     "data": {
      "text/plain": [
       "Area code                 object\n",
       "SES high (%)               int64\n",
       "Social cohesion (1-10)    object\n",
       "dtype: object"
      ]
     },
     "execution_count": 22,
     "metadata": {},
     "output_type": "execute_result"
    }
   ],
   "source": [
    "s_selected.dtypes"
   ]
  },
  {
   "cell_type": "code",
   "execution_count": 26,
   "id": "46374987-e1fe-4502-8baf-f7f5ca90385f",
   "metadata": {},
   "outputs": [
    {
     "data": {
      "text/html": [
       "<div>\n",
       "<style scoped>\n",
       "    .dataframe tbody tr th:only-of-type {\n",
       "        vertical-align: middle;\n",
       "    }\n",
       "\n",
       "    .dataframe tbody tr th {\n",
       "        vertical-align: top;\n",
       "    }\n",
       "\n",
       "    .dataframe thead th {\n",
       "        text-align: right;\n",
       "    }\n",
       "</style>\n",
       "<table border=\"1\" class=\"dataframe\">\n",
       "  <thead>\n",
       "    <tr style=\"text-align: right;\">\n",
       "      <th></th>\n",
       "      <th>Area code</th>\n",
       "      <th>Living space: % 100 m2+</th>\n",
       "      <th>Average number of residents</th>\n",
       "      <th>SES high (%)</th>\n",
       "      <th>Social cohesion (1-10)</th>\n",
       "    </tr>\n",
       "  </thead>\n",
       "  <tbody>\n",
       "    <tr>\n",
       "      <th>0</th>\n",
       "      <td>AA</td>\n",
       "      <td>19.1</td>\n",
       "      <td>1.62</td>\n",
       "      <td>49</td>\n",
       "      <td>6.2</td>\n",
       "    </tr>\n",
       "    <tr>\n",
       "      <th>1</th>\n",
       "      <td>AB</td>\n",
       "      <td>11.1</td>\n",
       "      <td>1.47</td>\n",
       "      <td>49</td>\n",
       "      <td>6.2</td>\n",
       "    </tr>\n",
       "    <tr>\n",
       "      <th>2</th>\n",
       "      <td>AC</td>\n",
       "      <td>38.8</td>\n",
       "      <td>1.47</td>\n",
       "      <td>63</td>\n",
       "      <td>6</td>\n",
       "    </tr>\n",
       "    <tr>\n",
       "      <th>3</th>\n",
       "      <td>AD</td>\n",
       "      <td>14.9</td>\n",
       "      <td>1.35</td>\n",
       "      <td>53</td>\n",
       "      <td>5.4</td>\n",
       "    </tr>\n",
       "    <tr>\n",
       "      <th>4</th>\n",
       "      <td>AE</td>\n",
       "      <td>18.1</td>\n",
       "      <td>1.52</td>\n",
       "      <td>49</td>\n",
       "      <td>5.6</td>\n",
       "    </tr>\n",
       "    <tr>\n",
       "      <th>...</th>\n",
       "      <td>...</td>\n",
       "      <td>...</td>\n",
       "      <td>...</td>\n",
       "      <td>...</td>\n",
       "      <td>...</td>\n",
       "    </tr>\n",
       "    <tr>\n",
       "      <th>101</th>\n",
       "      <td>TH</td>\n",
       "      <td>24.6</td>\n",
       "      <td>2.41</td>\n",
       "      <td>24</td>\n",
       "      <td>6.2</td>\n",
       "    </tr>\n",
       "    <tr>\n",
       "      <th>102</th>\n",
       "      <td>TJ</td>\n",
       "      <td>13.1</td>\n",
       "      <td>2.22</td>\n",
       "      <td>18</td>\n",
       "      <td>5.9</td>\n",
       "    </tr>\n",
       "    <tr>\n",
       "      <th>103</th>\n",
       "      <td>TK</td>\n",
       "      <td>11.5</td>\n",
       "      <td>1.83</td>\n",
       "      <td>36</td>\n",
       "      <td>6.2</td>\n",
       "    </tr>\n",
       "    <tr>\n",
       "      <th>104</th>\n",
       "      <td>TL</td>\n",
       "      <td>11.7</td>\n",
       "      <td>2.10</td>\n",
       "      <td>25</td>\n",
       "      <td>6</td>\n",
       "    </tr>\n",
       "    <tr>\n",
       "      <th>105</th>\n",
       "      <td>TM</td>\n",
       "      <td>8.4</td>\n",
       "      <td>2.18</td>\n",
       "      <td>28</td>\n",
       "      <td>6</td>\n",
       "    </tr>\n",
       "  </tbody>\n",
       "</table>\n",
       "<p>106 rows × 5 columns</p>\n",
       "</div>"
      ],
      "text/plain": [
       "    Area code  Living space: % 100 m2+  Average number of residents  \\\n",
       "0          AA                     19.1                         1.62   \n",
       "1          AB                     11.1                         1.47   \n",
       "2          AC                     38.8                         1.47   \n",
       "3          AD                     14.9                         1.35   \n",
       "4          AE                     18.1                         1.52   \n",
       "..        ...                      ...                          ...   \n",
       "101        TH                     24.6                         2.41   \n",
       "102        TJ                     13.1                         2.22   \n",
       "103        TK                     11.5                         1.83   \n",
       "104        TL                     11.7                         2.10   \n",
       "105        TM                      8.4                         2.18   \n",
       "\n",
       "     SES high (%) Social cohesion (1-10)  \n",
       "0              49                    6.2  \n",
       "1              49                    6.2  \n",
       "2              63                      6  \n",
       "3              53                    5.4  \n",
       "4              49                    5.6  \n",
       "..            ...                    ...  \n",
       "101            24                    6.2  \n",
       "102            18                    5.9  \n",
       "103            36                    6.2  \n",
       "104            25                      6  \n",
       "105            28                      6  \n",
       "\n",
       "[106 rows x 5 columns]"
      ]
     },
     "execution_count": 26,
     "metadata": {},
     "output_type": "execute_result"
    }
   ],
   "source": [
    "merge_df= pd.merge(h_selected, s_selected, on='Area code', how='inner')\n",
    "merge_df"
   ]
  },
  {
   "cell_type": "code",
   "execution_count": null,
   "id": "43563f57-cf75-4df7-8e48-691d32336aab",
   "metadata": {},
   "outputs": [],
   "source": []
  }
 ],
 "metadata": {
  "kernelspec": {
   "display_name": "Python 3 (ipykernel)",
   "language": "python",
   "name": "python3"
  },
  "language_info": {
   "codemirror_mode": {
    "name": "ipython",
    "version": 3
   },
   "file_extension": ".py",
   "mimetype": "text/x-python",
   "name": "python",
   "nbconvert_exporter": "python",
   "pygments_lexer": "ipython3",
   "version": "3.11.7"
  }
 },
 "nbformat": 4,
 "nbformat_minor": 5
}
