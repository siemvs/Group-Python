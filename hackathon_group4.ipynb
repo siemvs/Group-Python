{
 "cells": [
  {
   "cell_type": "markdown",
   "id": "72646b33-e50d-430e-8206-910c9c21d39e",
   "metadata": {},
   "source": [
    "# Hackathon\n",
    "## 16/10/2024\n",
    "## Caya Papst, David Bögner, Eva Heslenfeld, Siem van Staveren"
   ]
  },
  {
   "cell_type": "code",
   "execution_count": 1,
   "id": "b6f772c1-d0d8-4348-8f35-497633bb3509",
   "metadata": {},
   "outputs": [
    {
     "name": "stderr",
     "output_type": "stream",
     "text": [
      "C:\\Users\\david\\anaconda3\\Lib\\site-packages\\spaghetti\\network.py:41: FutureWarning: The next major release of pysal/spaghetti (2.0.0) will drop support for all ``libpysal.cg`` geometries. This change is a first step in refactoring ``spaghetti`` that is expected to result in dramatically reduced runtimes for network instantiation and operations. Users currently requiring network and point pattern input as ``libpysal.cg`` geometries should prepare for this simply by converting to ``shapely`` geometries.\n",
      "  warnings.warn(dep_msg, FutureWarning, stacklevel=1)\n"
     ]
    }
   ],
   "source": [
    "from IPython.display import IFrame # import iFrame\n",
    "import numpy as np\n",
    "import scipy as sp\n",
    "import seaborn as sns\n",
    "import matplotlib as mpl\n",
    "import matplotlib.cm as cm\n",
    "import matplotlib.pyplot as plt\n",
    "import pandas as pd\n",
    "import pysal as ps\n",
    "from pysal.lib import weights\n",
    "from pysal.explore import esda\n",
    "from splot.esda import moran_scatterplot, lisa_cluster, plot_local_autocorrelation\n",
    "from libpysal.io import open as psopen\n",
    "from libpysal.weights import DistanceBand \n",
    "import geopandas as gpd\n",
    "import contextily as ctx\n",
    "import time\n",
    "import warnings\n",
    "warnings.filterwarnings('ignore')\n",
    "import statsmodels\n",
    "from sklearn.model_selection import train_test_split\n",
    "from statsmodels.stats.proportion import proportions_ztest\n",
    "%matplotlib inline"
   ]
  },
  {
   "cell_type": "markdown",
   "id": "5efc7690-fbbc-414a-8197-475e0b8239d3",
   "metadata": {},
   "source": [
    "# How do different population characteristics, such as people with migration background, households with children, duration of residence; housing characteristics, such as, average number of residents; characteristics regarding socio-economic status, such as people with high socio-econmoic status, social coheasion; social infrastructure like health care per 1000 inhabitants, influence the share of 100m2+ dwellings in the different neighbourhoods of Amsterdam?"
   ]
  },
  {
   "cell_type": "code",
   "execution_count": null,
   "id": "f68a24ba-d84c-4cfa-b651-6f8eff20a730",
   "metadata": {},
   "outputs": [],
   "source": []
  }
 ],
 "metadata": {
  "kernelspec": {
   "display_name": "Python 3 (ipykernel)",
   "language": "python",
   "name": "python3"
  },
  "language_info": {
   "codemirror_mode": {
    "name": "ipython",
    "version": 3
   },
   "file_extension": ".py",
   "mimetype": "text/x-python",
   "name": "python",
   "nbconvert_exporter": "python",
   "pygments_lexer": "ipython3",
   "version": "3.12.4"
  }
 },
 "nbformat": 4,
 "nbformat_minor": 5
}
