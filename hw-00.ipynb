{
 "cells": [
  {
   "cell_type": "markdown",
   "metadata": {
    "jupyter": {
     "source_hidden": true
    }
   },
   "source": [
    "# <img style=\"float: left; padding-right: 10px; width: 200px\" src=\"https://raw.githubusercontent.com/trivikverma/researchgroup/master/assets/media/logo.png\"> EPA-122A *Spatial* Data Science \n",
    "\n",
    "\n",
    "## Homework 0: Introduction to Python and its Numerical Stack\n",
    "\n",
    "**TU Delft**<br>\n",
    "**Q2 2023**<br>\n",
    "**Instructor:** Trivik Verma <br>\n",
    "**[Centre for Urban Science & Policy]( https://cusp.tbm.tudelft.nl/)** <br>\n",
    "\n",
    "\n",
    "---\n",
    "\n"
   ]
  },
  {
   "cell_type": "markdown",
   "metadata": {
    "tags": []
   },
   "source": [
    "# Homework Exercises"
   ]
  },
  {
   "cell_type": "markdown",
   "metadata": {},
   "source": [
    "## Exercise 1\n",
    "### Write a properly documented function with the following behaviour:\n",
    "\n",
    "- It has a meaningful name (i.e. it is related to its behaviour).\n",
    "- It takes an integer that represents the length of a sequence that will be created.\n",
    "- It creates a dictionary that is empty.\n",
    "- It loops over the sequence and stores each number as the key of an entry in the dictionary, assigning either \"odd\" or \"even\" to the value, depending on the type of number.\n",
    "\n",
    "- Returns the dictionary."
   ]
  },
  {
   "cell_type": "code",
   "execution_count": 65,
   "metadata": {},
   "outputs": [],
   "source": [
    "import numpy as np\n",
    "\n",
    "# define a function, give it a name, that takes an integer that represents the length of a sequence that will be created\n",
    "def create_integer_seq(x): \n",
    "    \"\"\"\n",
    "    Generates a sequence of integers of the specified length, \n",
    "    alternating between even and odd numbers starting from 0.\n",
    "    ...\n",
    "    \n",
    "    Arguments\n",
    "    ---------\n",
    "    length: int\n",
    "            Length of the sequence to be printed out\n",
    "    \n",
    "    Returns\n",
    "    -------\n",
    "    list  : # data type Integer based on length\n",
    "            A list containing the generated sequence of integers.\n",
    "    \"\"\"\n",
    "    \n",
    "    # create a sequence of integers\n",
    "    seq = np.arange(x)\n",
    "    \n",
    "    # creates an empty dictonary\n",
    "    number_classification = {}\n",
    "    \n",
    "    # function loops over the sequence and stores each index number as the key. Assigning odd/even to the value\n",
    "    for num in seq:\n",
    "        if num % 2 == 0:\n",
    "            number_classification[num] = \"even\"\n",
    "        else:\n",
    "            number_classification[num] = \"odd\"\n",
    "            \n",
    "    # returns the dict\n",
    "    return number_classification"
   ]
  },
  {
   "cell_type": "markdown",
   "metadata": {},
   "source": [
    "### Testing the code:"
   ]
  },
  {
   "cell_type": "code",
   "execution_count": 66,
   "metadata": {},
   "outputs": [
    {
     "data": {
      "text/plain": [
       "{0: 'even', 1: 'odd', 2: 'even', 3: 'odd', 4: 'even'}"
      ]
     },
     "execution_count": 66,
     "metadata": {},
     "output_type": "execute_result"
    }
   ],
   "source": [
    "create_integer_seq(5)"
   ]
  },
  {
   "cell_type": "markdown",
   "metadata": {},
   "source": [
    "## Exercise 2\n",
    "### Create a tuple called `tup` with the following seven objects: \n",
    "\n",
    "- The first element is an integer of your choice\n",
    "- The second element is a float of your choice  \n",
    "- The third element is the sum of the first two elements\n",
    "- The fourth element is the difference of the first two elements\n",
    "- The fifth element is the first element divided by the second element\n",
    "\n",
    "- Display the output of `tup`.  What is the type of the variable `tup`? What happens if you try and chage an item in the tuple? "
   ]
  },
  {
   "cell_type": "code",
   "execution_count": 5,
   "metadata": {},
   "outputs": [
    {
     "name": "stdout",
     "output_type": "stream",
     "text": [
      "(2, 3.0, 5.0, 1.0, 0.6666666666666666)\n"
     ]
    }
   ],
   "source": [
    "# integer of your choice\n",
    "a = 2\n",
    "# float of your choice\n",
    "b = 3.\n",
    "# sum of the two elements\n",
    "c = a + b\n",
    "# difference of the first two elements\n",
    "d = b - a\n",
    "# first divided by the second element\n",
    "e = a/b\n",
    "# create a tuple called tup\n",
    "tup = a , b , c , d , e\n",
    "# what is the output of tup\n",
    "tup"
   ]
  },
  {
   "cell_type": "code",
   "execution_count": 6,
   "metadata": {},
   "outputs": [
    {
     "data": {
      "text/plain": [
       "tuple"
      ]
     },
     "execution_count": 6,
     "metadata": {},
     "output_type": "execute_result"
    }
   ],
   "source": [
    "# what type of variable is tup\n",
    "type(tup)"
   ]
  },
  {
   "cell_type": "code",
   "execution_count": 10,
   "metadata": {},
   "outputs": [
    {
     "ename": "TypeError",
     "evalue": "'tuple' object does not support item assignment",
     "output_type": "error",
     "traceback": [
      "\u001b[1;31m---------------------------------------------------------------------------\u001b[0m",
      "\u001b[1;31mTypeError\u001b[0m                                 Traceback (most recent call last)",
      "Cell \u001b[1;32mIn[10], line 2\u001b[0m\n\u001b[0;32m      1\u001b[0m \u001b[38;5;66;03m# change an item in the tuple\u001b[39;00m\n\u001b[1;32m----> 2\u001b[0m tup[\u001b[38;5;241m1\u001b[39m]\u001b[38;5;241m=\u001b[39m \u001b[38;5;241m4.0\u001b[39m\n\u001b[0;32m      3\u001b[0m tup\n",
      "\u001b[1;31mTypeError\u001b[0m: 'tuple' object does not support item assignment"
     ]
    }
   ],
   "source": [
    "# change an item in the tuple\n",
    "tup[1]= 4.0\n",
    "tup # tuples are immutable so they can't be changed once created"
   ]
  },
  {
   "cell_type": "markdown",
   "metadata": {},
   "source": [
    "## Exercise 3\n",
    "### Build a list that contains every prime number between 1 and 100, in two different ways:\n",
    "    \n",
    "1. Using for loops and conditional if statements.\n",
    "2. **(Stretch Goal)** Using a list comprehension.  You should be able to do this in one line of code. **Hint:** it might help to look up the function `all()` in the documentation."
   ]
  },
  {
   "cell_type": "code",
   "execution_count": 14,
   "metadata": {},
   "outputs": [
    {
     "name": "stdout",
     "output_type": "stream",
     "text": [
      "[2, 3, 5, 7, 11, 13, 17, 19, 23, 29, 31, 37, 41, 43, 47, 53, 59, 61, 67, 71, 73, 79, 83, 89, 97]\n",
      "[2, 3, 5, 7, 11, 13, 17, 19, 23, 29, 31, 37, 41, 43, 47, 53, 59, 61, 67, 71, 73, 79, 83, 89, 97]\n"
     ]
    }
   ],
   "source": [
    "# Prime Numbers List Generator-Version 1\n",
    "\n",
    "''' \n",
    "## Description\n",
    "\n",
    "    This Python script generates a list of all prime numbers between 2 and 100 using for loops and conditional statements.\n",
    "    We excluded 1 since it is not a prime number. A prime number is defined as a a whole number greater than 1 that cannot\n",
    "    be exactly divided by any whole number other than itself and 1.\n",
    "    This code checks each number in the specified range to determine if it is a prime number.\n",
    "\n",
    "## Parameters\n",
    "\n",
    "    The script uses one parameter which is range:\n",
    "\n",
    "    - Range: The range of numbers to be checked for prime numbers is from 2 to 100. The range does not include 1,\n",
    "                as 1 is not considered a prime number.\n",
    "\n",
    "## Structure\n",
    "\n",
    "The script follows the structure:\n",
    "\n",
    "1. Creating an empty list named `primes` store the prime numbers.\n",
    "\n",
    "2.Using a `for` loop, all numbers (`num`) between 2 and 100 are ran through.\n",
    "\n",
    "3. In the next step we check if these numbers are true prime numbers\n",
    "   - For each number, the script assumes it is prime by setting a boolean variable `is_prime` to `True`.\n",
    "   - A `for` loop checks divisibility of `num` by checking possible divisors from 2 up to the square root of `num`.\n",
    "    This is done to optimize the check by reducing unnecessary computations. Because if the square root of n has \n",
    "    a divisor greater than the square root of n, there must also be a corresponding divisor less than square root n.\n",
    "   - If `num` is found to be divisible by any divisor in this range, the Boolean variable `is_prime` is set to `False`, \n",
    "    indicating the number is not prime.\n",
    "4. If after the inner loop, the `is_prime` flag remains `True`, the number is added to the `primes` list.\n",
    "\n",
    "5. Output: the list of prime numbers is printed.\n",
    "\n",
    "'''\n",
    "#Code\n",
    "\n",
    "# List to store prime numbers\n",
    "prime_numbers1 = []\n",
    "\n",
    "# Check numbers from 2 to 100 (1 is not a prime number)\n",
    "for num in range(2, 101):\n",
    "    is_prime = True  # Assume the number is prime\n",
    "\n",
    "    # Check divisibility by any number from 2 to the square root of the number\n",
    "    for i in range(2, int(num ** 0.5) + 1):\n",
    "        if num % i == 0:\n",
    "            is_prime = False  # Set to False if num is divisible by i\n",
    "            \n",
    "\n",
    "    # Only add the number to the list if it is still considered prime\n",
    "    if is_prime:\n",
    "        prime_numbers1.append(num)\n",
    "\n",
    "print(prime_numbers1)\n",
    "\n",
    "\n",
    "\n",
    "#Version 2\n",
    "#Prime Numbers List Generator\n",
    "\n",
    "#This script generates a list of all prime numbers between 2 and 100. Prime numbers are integers greater than 1 that have no positive divisors other than 1 and themselves. This script uses list comprehension with `all()` function to identify prime numbers.\n",
    "\n",
    "#Code\n",
    "prime_numbers2 = [num for num in range(2, 101) if all(num % i != 0 for i in range(2, int(num ** 0.5) + 1))]\n",
    "print(prime_numbers2)\n"
   ]
  },
  {
   "cell_type": "markdown",
   "metadata": {},
   "source": [
    "## Exercise 4\n",
    "### Write a function to test the \"prime-ness\" of a number.\n",
    "    \n",
    "In Exercise 4, above, you wrote code that generated a list of the prime numbers between 1 and 100. Now, write a function called `isprime()` that takes in a positive integer $N$, and determines whether or not it is prime.  Return `True` if it's prime and return `False` if it isn't. Then, using a list comprehension and `isprime()`, create a list `myprimes` that contains all the prime numbers less than 100.  "
   ]
  },
  {
   "cell_type": "code",
   "execution_count": 60,
   "metadata": {},
   "outputs": [
    {
     "name": "stdout",
     "output_type": "stream",
     "text": [
      "[2, 3, 5, 7, 11, 13, 17, 19, 23, 29, 31, 37, 41, 43, 47, 53, 59, 61, 67, 71, 73, 79, 83, 89, 97]\n"
     ]
    }
   ],
   "source": [
    "# Function to check if a number is a prime number\n",
    "\n",
    "''' \n",
    "## Description\n",
    "\n",
    "    This Python script generates a function which tests if a number is a prime number or not. \n",
    "    We excluded 1 since it is not a prime number. A prime number is defined as a a whole number greater than 1 that cannot\n",
    "    be exactly divided by any whole number other than itself and 1.\n",
    "    \n",
    "\n",
    "## Parameters\n",
    "\n",
    "    The script uses two parameter which is range and isinstance:\n",
    "\n",
    "    - Range: The range of numbers to be checked for prime numbers is from 2 to 100. The range does not include 1,\n",
    "                as 1 is not considered a prime number.\n",
    "    - Isinstance: The `isinstance` function checks if an object is an instance of a specified class or a tuple of classes, \n",
    "                returning `True` if it is and `False` otherwise, in our case if it is a float it should give an error.\n",
    "        \n",
    "\n",
    "## Structure\n",
    "\n",
    "The script follows the structure:\n",
    "\n",
    "1. Defining a Function called is_prime()\n",
    "\n",
    "2. Introducing the two contraints which are that it has to be an integer and it has to be positive.\n",
    "\n",
    "3. In the next step we check if the input number is in the list of prime numbers we created in exercise 3. \n",
    "    We could use either the first or the second list without changing the result.\n",
    "    \n",
    "4. Using a list comprehension and the new function is_prime, a list of all prime numbers below 100 is created.\n",
    "\n",
    "5. Output: the list of prime numbers is printed.\n",
    "\n",
    "'''\n",
    "#Code\n",
    "# define a function called is_prime()\n",
    "def is_prime(input):\n",
    "    if isinstance(input, float):\n",
    "        raise ValueError(\"Input must be an Integer\")\n",
    "    \n",
    "    # it only takes positive inputs\n",
    "    if input <= 0:\n",
    "        raise ValueError(\"Input must be a positive integer.\")\n",
    "        \n",
    "# checks if the number is in the list prime_numbers1\n",
    "    return input in prime_numbers1\n",
    "        \n",
    "# use a list comprehension and the function is_prime to create a list called myprimes with all prime numbers below 100.\n",
    "myprimes = [num for num in range(2, 101) if is_prime(num)]\n",
    "print(myprimes)\n"
   ]
  },
  {
   "cell_type": "code",
   "execution_count": 61,
   "metadata": {},
   "outputs": [
    {
     "data": {
      "text/plain": [
       "True"
      ]
     },
     "execution_count": 61,
     "metadata": {},
     "output_type": "execute_result"
    }
   ],
   "source": [
    "#test if the function is working\n",
    "is_prime(47)"
   ]
  },
  {
   "cell_type": "code",
   "execution_count": 62,
   "metadata": {},
   "outputs": [
    {
     "ename": "ValueError",
     "evalue": "Input must be an Integer",
     "output_type": "error",
     "traceback": [
      "\u001b[1;31m---------------------------------------------------------------------------\u001b[0m",
      "\u001b[1;31mValueError\u001b[0m                                Traceback (most recent call last)",
      "Cell \u001b[1;32mIn[62], line 1\u001b[0m\n\u001b[1;32m----> 1\u001b[0m is_prime(\u001b[38;5;241m2.2\u001b[39m)\n",
      "Cell \u001b[1;32mIn[60], line 41\u001b[0m, in \u001b[0;36mis_prime\u001b[1;34m(input)\u001b[0m\n\u001b[0;32m     39\u001b[0m \u001b[38;5;28;01mdef\u001b[39;00m \u001b[38;5;21mis_prime\u001b[39m(\u001b[38;5;28minput\u001b[39m):\n\u001b[0;32m     40\u001b[0m     \u001b[38;5;28;01mif\u001b[39;00m \u001b[38;5;28misinstance\u001b[39m(\u001b[38;5;28minput\u001b[39m, \u001b[38;5;28mfloat\u001b[39m):\n\u001b[1;32m---> 41\u001b[0m         \u001b[38;5;28;01mraise\u001b[39;00m \u001b[38;5;167;01mValueError\u001b[39;00m(\u001b[38;5;124m\"\u001b[39m\u001b[38;5;124mInput must be an Integer\u001b[39m\u001b[38;5;124m\"\u001b[39m)\n\u001b[0;32m     43\u001b[0m     \u001b[38;5;66;03m# it only takes positive inputs\u001b[39;00m\n\u001b[0;32m     44\u001b[0m     \u001b[38;5;28;01mif\u001b[39;00m \u001b[38;5;28minput\u001b[39m \u001b[38;5;241m<\u001b[39m\u001b[38;5;241m=\u001b[39m \u001b[38;5;241m0\u001b[39m:\n",
      "\u001b[1;31mValueError\u001b[0m: Input must be an Integer"
     ]
    }
   ],
   "source": [
    "is_prime(2.2) # testing the input constraints"
   ]
  },
  {
   "cell_type": "code",
   "execution_count": 63,
   "metadata": {},
   "outputs": [
    {
     "ename": "ValueError",
     "evalue": "Input must be a positive integer.",
     "output_type": "error",
     "traceback": [
      "\u001b[1;31m---------------------------------------------------------------------------\u001b[0m",
      "\u001b[1;31mValueError\u001b[0m                                Traceback (most recent call last)",
      "Cell \u001b[1;32mIn[63], line 1\u001b[0m\n\u001b[1;32m----> 1\u001b[0m is_prime(\u001b[38;5;241m-\u001b[39m\u001b[38;5;241m2\u001b[39m)\n",
      "Cell \u001b[1;32mIn[60], line 45\u001b[0m, in \u001b[0;36mis_prime\u001b[1;34m(input)\u001b[0m\n\u001b[0;32m     43\u001b[0m     \u001b[38;5;66;03m# it only takes positive inputs\u001b[39;00m\n\u001b[0;32m     44\u001b[0m     \u001b[38;5;28;01mif\u001b[39;00m \u001b[38;5;28minput\u001b[39m \u001b[38;5;241m<\u001b[39m\u001b[38;5;241m=\u001b[39m \u001b[38;5;241m0\u001b[39m:\n\u001b[1;32m---> 45\u001b[0m         \u001b[38;5;28;01mraise\u001b[39;00m \u001b[38;5;167;01mValueError\u001b[39;00m(\u001b[38;5;124m\"\u001b[39m\u001b[38;5;124mInput must be a positive integer.\u001b[39m\u001b[38;5;124m\"\u001b[39m)\n\u001b[0;32m     47\u001b[0m \u001b[38;5;66;03m# checks if the number is in the list prime_numbers1\u001b[39;00m\n\u001b[0;32m     48\u001b[0m     \u001b[38;5;28;01mreturn\u001b[39;00m \u001b[38;5;28minput\u001b[39m \u001b[38;5;129;01min\u001b[39;00m prime_numbers1\n",
      "\u001b[1;31mValueError\u001b[0m: Input must be a positive integer."
     ]
    }
   ],
   "source": [
    "is_prime(-2)"
   ]
  },
  {
   "cell_type": "markdown",
   "metadata": {},
   "source": [
    "---"
   ]
  },
  {
   "cell_type": "markdown",
   "metadata": {},
   "source": [
    "## Optional Exercise\n",
    "### Try to reproduce, using markdown and the different tools the notebook affords you, the following WikiPedia entry:\n",
    "\n",
    "\n",
    "> https://en.wikipedia.org/wiki/Puppy\n"
   ]
  },
  {
   "cell_type": "code",
   "execution_count": 5,
   "metadata": {},
   "outputs": [
    {
     "data": {
      "text/html": [
       "\n",
       "        <iframe\n",
       "            width=\"700\"\n",
       "            height=\"500\"\n",
       "            src=\"https://en.wikipedia.org/wiki/Puppy\"\n",
       "            frameborder=\"0\"\n",
       "            allowfullscreen\n",
       "            \n",
       "        ></iframe>\n",
       "        "
      ],
      "text/plain": [
       "<IPython.lib.display.IFrame at 0x10d815e20>"
      ]
     },
     "execution_count": 5,
     "metadata": {},
     "output_type": "execute_result"
    }
   ],
   "source": [
    "from IPython.display import IFrame\n",
    "IFrame('https://en.wikipedia.org/wiki/Puppy', 700, 500)"
   ]
  },
  {
   "cell_type": "markdown",
   "metadata": {},
   "source": [
    "Do not over think it. Focuse and pay special attention to getting the bold, italics, links, headlines and lists correctly formated, but don't worry too much about the overall layout. Bonus if you manage to insert the image as well (it does not need to be properly placed as in the original page)!"
   ]
  },
  {
   "cell_type": "code",
   "execution_count": 6,
   "metadata": {},
   "outputs": [],
   "source": [
    "# your code here\n"
   ]
  }
 ],
 "metadata": {
  "kernelspec": {
   "display_name": "Python 3 (ipykernel)",
   "language": "python",
   "name": "python3"
  },
  "language_info": {
   "codemirror_mode": {
    "name": "ipython",
    "version": 3
   },
   "file_extension": ".py",
   "mimetype": "text/x-python",
   "name": "python",
   "nbconvert_exporter": "python",
   "pygments_lexer": "ipython3",
   "version": "3.12.4"
  }
 },
 "nbformat": 4,
 "nbformat_minor": 4
}
