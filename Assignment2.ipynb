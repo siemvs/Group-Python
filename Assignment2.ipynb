{
 "cells": [
  {
   "cell_type": "markdown",
   "metadata": {},
   "source": [
    "\n",
    "\n",
    "## Assignment 2: Data, Grammar and Engineering\n",
    "\n",
    "**AMS MADE YMS31303**<br>\n",
    "**Q1 2024**<br>\n",
    "**Instructor:** Theodoros Chatzivasileiadis <br>\n",
    "**Instructor:** Hans Hoogenboom <br>\n",
    "**TA:** Ka Yi Chua <br>\n",
    "**[Metropolitan Data 1](https://jhoogenboom.github.io/spatial-data-science/_index.html)** <br>\n",
    "\n",
    "---\n",
    "\n"
   ]
  },
  {
   "cell_type": "markdown",
   "metadata": {},
   "source": [
    "## Question 1\n",
    "\n",
    "We will work with data from the Guardian's version of [Wikileaks' Afghanistan war logs](http://www.theguardian.com/news/datablog/2010/jul/27/wikileaks-afghanistan-data-datajournalism). The table is stored on a GoogleDoc on the following address:\n",
    "\n",
    "> [https://docs.google.com/spreadsheets/d/1EAx8_ksSCmoWW_SlhFyq2QrRn0FNNhcg1TtDFJzZRgc/edit?hl=en#gid=1](https://docs.google.com/spreadsheets/d/1EAx8_ksSCmoWW_SlhFyq2QrRn0FNNhcg1TtDFJzZRgc/edit?hl=en#gid=1)\n",
    "\n",
    "Write a Python code snippet using IPython.display to embed this Google Sheet directly into a Jupyter notebook for easy reference and interaction."
   ]
  },
  {
   "cell_type": "code",
   "execution_count": 73,
   "metadata": {},
   "outputs": [
    {
     "data": {
      "text/html": [
       "\n",
       "        <iframe\n",
       "            width=\"800\"\n",
       "            height=\"400\"\n",
       "            src=\"https://docs.google.com/spreadsheets/d/1EAx8_ksSCmoWW_SlhFyq2QrRn0FNNhcg1TtDFJzZRgc/edit?hl=en&gid=1#gid=1\"\n",
       "            frameborder=\"0\"\n",
       "            allowfullscreen\n",
       "            \n",
       "        ></iframe>\n",
       "        "
      ],
      "text/plain": [
       "<IPython.lib.display.IFrame at 0x22db61c9d00>"
      ]
     },
     "execution_count": 73,
     "metadata": {},
     "output_type": "execute_result"
    }
   ],
   "source": [
    "from IPython.display import IFrame # import iFrame\n",
    "\n",
    "# Google Sheet embed link (make sure to replace with your own Google Sheet link)\n",
    "google_sheet_url = \"https://docs.google.com/spreadsheets/d/1EAx8_ksSCmoWW_SlhFyq2QrRn0FNNhcg1TtDFJzZRgc/edit?hl=en&gid=1#gid=1\"\n",
    "# Display the Google Sheet using an iframe\n",
    "IFrame(src=google_sheet_url, width=800, height=400)"
   ]
  },
  {
   "cell_type": "markdown",
   "metadata": {},
   "source": [
    "\n",
    "## Question 2\n",
    "a) Save the csv file to your compluter and Load the data in Tab \"TOTAL Casualties\".\n",
    "\n",
    "b) Display the first 5 rows of the dataset using .head().\n",
    "\n",
    "c) Extract the column names and create a dictionary where each column name is the key, and the first value in that column is the value."
   ]
  },
  {
   "cell_type": "code",
   "execution_count": 32,
   "metadata": {},
   "outputs": [
    {
     "data": {
      "text/html": [
       "<div>\n",
       "<style scoped>\n",
       "    .dataframe tbody tr th:only-of-type {\n",
       "        vertical-align: middle;\n",
       "    }\n",
       "\n",
       "    .dataframe tbody tr th {\n",
       "        vertical-align: top;\n",
       "    }\n",
       "\n",
       "    .dataframe thead th {\n",
       "        text-align: right;\n",
       "    }\n",
       "</style>\n",
       "<table border=\"1\" class=\"dataframe\">\n",
       "  <thead>\n",
       "    <tr style=\"text-align: right;\">\n",
       "      <th></th>\n",
       "      <th>Year</th>\n",
       "      <th>Month</th>\n",
       "      <th>Taliban</th>\n",
       "      <th>Civilians</th>\n",
       "      <th>Afghan forces</th>\n",
       "      <th>Nato (detailed in spreadsheet)</th>\n",
       "      <th>Nato - official figures</th>\n",
       "    </tr>\n",
       "  </thead>\n",
       "  <tbody>\n",
       "    <tr>\n",
       "      <th>0</th>\n",
       "      <td>2004</td>\n",
       "      <td>January</td>\n",
       "      <td>15</td>\n",
       "      <td>51</td>\n",
       "      <td>23</td>\n",
       "      <td>NaN</td>\n",
       "      <td>11</td>\n",
       "    </tr>\n",
       "    <tr>\n",
       "      <th>1</th>\n",
       "      <td>2004</td>\n",
       "      <td>February</td>\n",
       "      <td>NaN</td>\n",
       "      <td>7</td>\n",
       "      <td>4</td>\n",
       "      <td>5</td>\n",
       "      <td>2</td>\n",
       "    </tr>\n",
       "    <tr>\n",
       "      <th>2</th>\n",
       "      <td>2004</td>\n",
       "      <td>March</td>\n",
       "      <td>19</td>\n",
       "      <td>2</td>\n",
       "      <td>NaN</td>\n",
       "      <td>2</td>\n",
       "      <td>3</td>\n",
       "    </tr>\n",
       "    <tr>\n",
       "      <th>3</th>\n",
       "      <td>2004</td>\n",
       "      <td>April</td>\n",
       "      <td>5</td>\n",
       "      <td>3</td>\n",
       "      <td>19</td>\n",
       "      <td>NaN</td>\n",
       "      <td>3</td>\n",
       "    </tr>\n",
       "    <tr>\n",
       "      <th>4</th>\n",
       "      <td>2004</td>\n",
       "      <td>May</td>\n",
       "      <td>18</td>\n",
       "      <td>29</td>\n",
       "      <td>56</td>\n",
       "      <td>6</td>\n",
       "      <td>9</td>\n",
       "    </tr>\n",
       "  </tbody>\n",
       "</table>\n",
       "</div>"
      ],
      "text/plain": [
       "0  Year     Month Taliban Civilians Afghan forces  \\\n",
       "0  2004   January      15        51            23   \n",
       "1  2004  February     NaN         7             4   \n",
       "2  2004     March      19         2           NaN   \n",
       "3  2004     April       5         3            19   \n",
       "4  2004       May      18        29            56   \n",
       "\n",
       "0 Nato (detailed in spreadsheet) Nato - official figures  \n",
       "0                            NaN                      11  \n",
       "1                              5                       2  \n",
       "2                              2                       3  \n",
       "3                            NaN                       3  \n",
       "4                              6                       9  "
      ]
     },
     "execution_count": 32,
     "metadata": {},
     "output_type": "execute_result"
    }
   ],
   "source": [
    "# your code here\n",
    "# use many cells if you like to structure your code well\n",
    "\n",
    "#a\n",
    "import pandas as pd    # This is the workhorse of data munging in Python\n",
    "f = 'data/Wikileaks Afghanistan war logs analysis - TOTAL CASUALTIES, ALL CAUSES.csv'\n",
    "db = pd.read_csv(f)    # Read the table in\n",
    "\n",
    "db.columns = db. iloc[0] # make the first row the header\n",
    "\n",
    "db = db.drop(db.index[0]) # delete the first row as it was the header\n",
    "\n",
    "db = db.reset_index(drop=True)\n",
    "\n",
    "#b\n",
    "db.head()"
   ]
  },
  {
   "cell_type": "code",
   "execution_count": 33,
   "metadata": {},
   "outputs": [
    {
     "name": "stdout",
     "output_type": "stream",
     "text": [
      "{'Year': '2004', 'Month': 'January', 'Taliban': '15', 'Civilians': '51', 'Afghan forces': '23', 'Nato (detailed in spreadsheet)': nan, 'Nato - official figures': '11'}\n"
     ]
    }
   ],
   "source": [
    "#c\n",
    "keys = db.columns.tolist()\n",
    "values = db.iloc[0].tolist()\n",
    "\n",
    "dictonary = dict(zip(keys, values))\n",
    "\n",
    "print(dictonary)"
   ]
  },
  {
   "cell_type": "markdown",
   "metadata": {},
   "source": [
    "## Question 3\n",
    "a) Plot a histogram of any numeric column from the dataset.\n",
    "\n",
    "b) Use a kernel density plot (KDE) to visualize the distribution of another numeric column.\n",
    "\n",
    "c) Create a bar chart of a categorical variable and discuss how the plot changes if you switch to a horizontal bar plot."
   ]
  },
  {
   "cell_type": "code",
   "execution_count": 35,
   "metadata": {},
   "outputs": [
    {
     "data": {
      "image/png": "[encoded data removed]",
      "text/plain": [
       "<Figure size 500x500 with 1 Axes>"
      ]
     },
     "metadata": {},
     "output_type": "display_data"
    }
   ],
   "source": [
    "# your code here\n",
    "# use many cells if you like to structure your code well\n",
    "\n",
    "import seaborn as sns\n",
    "\n",
    "_ = sns.displot(db['Civilians'], kde=False)"
   ]
  },
  {
   "cell_type": "code",
   "execution_count": 41,
   "metadata": {},
   "outputs": [
    {
     "name": "stdout",
     "output_type": "stream",
     "text": [
      "<class 'pandas.core.frame.DataFrame'>\n",
      "RangeIndex: 73 entries, 0 to 72\n",
      "Data columns (total 7 columns):\n",
      " #   Column                          Non-Null Count  Dtype \n",
      "---  ------                          --------------  ----- \n",
      " 0   Year                            72 non-null     object\n",
      " 1   Month                           73 non-null     object\n",
      " 2   Taliban                         72 non-null     object\n",
      " 3   Civilians                       73 non-null     object\n",
      " 4   Afghan forces                   71 non-null     object\n",
      " 5   Nato (detailed in spreadsheet)  67 non-null     object\n",
      " 6   Nato - official figures         72 non-null     object\n",
      "dtypes: object(7)\n",
      "memory usage: 4.1+ KB\n"
     ]
    }
   ],
   "source": [
    "db.info() # to check which datatype we have"
   ]
  },
  {
   "cell_type": "code",
   "execution_count": null,
   "metadata": {},
   "outputs": [],
   "source": [
    "# we removed the commas of the numbers higher than 1000 with the following code db['Taliban'] = db['Taliban'].str.replace(',','').astype(float) "
   ]
  },
  {
   "cell_type": "code",
   "execution_count": 53,
   "metadata": {},
   "outputs": [
    {
     "name": "stdout",
     "output_type": "stream",
     "text": [
      "<class 'pandas.core.frame.DataFrame'>\n",
      "RangeIndex: 73 entries, 0 to 72\n",
      "Data columns (total 7 columns):\n",
      " #   Column                          Non-Null Count  Dtype  \n",
      "---  ------                          --------------  -----  \n",
      " 0   Year                            72 non-null     object \n",
      " 1   Month                           73 non-null     object \n",
      " 2   Taliban                         72 non-null     float64\n",
      " 3   Civilians                       73 non-null     object \n",
      " 4   Afghan forces                   71 non-null     object \n",
      " 5   Nato (detailed in spreadsheet)  67 non-null     object \n",
      " 6   Nato - official figures         72 non-null     object \n",
      "dtypes: float64(1), object(6)\n",
      "memory usage: 4.1+ KB\n"
     ]
    },
    {
     "data": {
      "image/png": "[encoded data removed]",
      "text/plain": [
       "<Figure size 640x480 with 1 Axes>"
      ]
     },
     "metadata": {},
     "output_type": "display_data"
    }
   ],
   "source": [
    "db['Taliban'] = pd.to_numeric(db['Taliban']) # change the datatype\n",
    "db.info() # check the datatype\n",
    "\n",
    "_ = sns.kdeplot(db['Taliban'], fill=True)"
   ]
  },
  {
   "cell_type": "code",
   "execution_count": 71,
   "metadata": {},
   "outputs": [
    {
     "name": "stdout",
     "output_type": "stream",
     "text": [
      "<class 'pandas.core.frame.DataFrame'>\n",
      "RangeIndex: 73 entries, 0 to 72\n",
      "Data columns (total 7 columns):\n",
      " #   Column                          Non-Null Count  Dtype   \n",
      "---  ------                          --------------  -----   \n",
      " 0   Year                            72 non-null     float64 \n",
      " 1   Month                           73 non-null     category\n",
      " 2   Taliban                         72 non-null     float64 \n",
      " 3   Civilians                       73 non-null     object  \n",
      " 4   Afghan forces                   71 non-null     object  \n",
      " 5   Nato (detailed in spreadsheet)  67 non-null     object  \n",
      " 6   Nato - official figures         72 non-null     object  \n",
      "dtypes: category(1), float64(2), object(4)\n",
      "memory usage: 4.3+ KB\n"
     ]
    }
   ],
   "source": [
    "# c) Create a bar chart of a categorical variable and discuss how the plot changes if you switch to a horizontal bar plot.\n",
    "\n",
    "db.info() # check the datatype"
   ]
  },
  {
   "cell_type": "code",
   "execution_count": 78,
   "metadata": {},
   "outputs": [
    {
     "name": "stdout",
     "output_type": "stream",
     "text": [
      "0     Year      Month  Taliban Civilians Afghan forces  \\\n",
      "0   2004.0    January     15.0        51            23   \n",
      "1   2004.0   February      NaN         7             4   \n",
      "2   2004.0      March     19.0         2           NaN   \n",
      "3   2004.0      April      5.0         3            19   \n",
      "4   2004.0        May     18.0        29            56   \n",
      "5   2004.0       June    163.0        32            14   \n",
      "6   2004.0       July     21.0        19            19   \n",
      "7   2004.0     August     20.0        26            10   \n",
      "8   2004.0  September     33.0         4            16   \n",
      "9   2004.0    October     13.0        14            14   \n",
      "10  2004.0   November     21.0        19            36   \n",
      "11  2004.0   December     15.0        13             7   \n",
      "\n",
      "0  Nato (detailed in spreadsheet) Nato - official figures  \n",
      "0                             NaN                      11  \n",
      "1                               5                       2  \n",
      "2                               2                       3  \n",
      "3                             NaN                       3  \n",
      "4                               6                       9  \n",
      "5                               2                       5  \n",
      "6                             NaN                       2  \n",
      "7                               3                       4  \n",
      "8                             NaN                       4  \n",
      "9                               2                       8  \n",
      "10                              2                       7  \n",
      "11                            NaN                       2  \n"
     ]
    }
   ],
   "source": [
    "db_2004 = db[db['Year'] == 2004]\n",
    "\n",
    "print(db_2004) # check how the table looks like"
   ]
  },
  {
   "cell_type": "markdown",
   "metadata": {},
   "source": [
    "## Question 4\n",
    "a) Write a loop that iterates through each row of a DataFrame and prints the value of one specific column.\n",
    "\n",
    "b) Modify the loop so that it extracts rows where a numeric column value is greater than a threshold and stores these rows in a new DataFrame."
   ]
  },
  {
   "cell_type": "code",
   "execution_count": 96,
   "metadata": {},
   "outputs": [
    {
     "name": "stdout",
     "output_type": "stream",
     "text": [
      "51.0\n",
      "7.0\n",
      "2.0\n",
      "3.0\n",
      "29.0\n",
      "32.0\n",
      "19.0\n",
      "26.0\n",
      "4.0\n",
      "14.0\n",
      "19.0\n",
      "13.0\n",
      "4.0\n",
      "4.0\n",
      "18.0\n",
      "5.0\n",
      "49.0\n",
      "31.0\n",
      "5.0\n",
      "6.0\n",
      "12.0\n",
      "15.0\n",
      "13.0\n",
      "16.0\n",
      "93.0\n",
      "54.0\n",
      "37.0\n",
      "33.0\n",
      "54.0\n",
      "71.0\n",
      "64.0\n",
      "101.0\n",
      "172.0\n",
      "44.0\n",
      "46.0\n",
      "51.0\n",
      "53.0\n",
      "33.0\n",
      "48.0\n",
      "123.0\n",
      "71.0\n",
      "80.0\n",
      "83.0\n",
      "65.0\n",
      "64.0\n",
      "46.0\n",
      "60.0\n",
      "37.0\n",
      "43.0\n",
      "120.0\n",
      "41.0\n",
      "55.0\n",
      "54.0\n",
      "51.0\n",
      "120.0\n",
      "46.0\n",
      "63.0\n",
      "56.0\n",
      "78.0\n",
      "76.0\n",
      "31.0\n",
      "46.0\n",
      "64.0\n",
      "44.0\n",
      "109.0\n",
      "111.0\n",
      "119.0\n",
      "206.0\n",
      "197.0\n",
      "107.0\n",
      "120.0\n",
      "87.0\n",
      "4024.0\n"
     ]
    }
   ],
   "source": [
    "db['Civilians'] = db['Civilians'].str.replace(',','').astype(float) # to get rid of the comma\n",
    "\n",
    "df = pd.DataFrame(db)\n",
    "\n",
    "for value in df['Civilians']:\n",
    "    print(value)"
   ]
  },
  {
   "cell_type": "code",
   "execution_count": 98,
   "metadata": {},
   "outputs": [
    {
     "name": "stdout",
     "output_type": "stream",
     "text": [
      "51.0\n",
      "29.0\n",
      "32.0\n",
      "19.0\n",
      "26.0\n",
      "14.0\n",
      "19.0\n",
      "13.0\n",
      "18.0\n",
      "49.0\n",
      "31.0\n",
      "12.0\n",
      "15.0\n",
      "13.0\n",
      "16.0\n",
      "93.0\n",
      "54.0\n",
      "37.0\n",
      "33.0\n",
      "54.0\n",
      "71.0\n",
      "64.0\n",
      "101.0\n",
      "172.0\n",
      "44.0\n",
      "46.0\n",
      "51.0\n",
      "53.0\n",
      "33.0\n",
      "48.0\n",
      "123.0\n",
      "71.0\n",
      "80.0\n",
      "83.0\n",
      "65.0\n",
      "64.0\n",
      "46.0\n",
      "60.0\n",
      "37.0\n",
      "43.0\n",
      "120.0\n",
      "41.0\n",
      "55.0\n",
      "54.0\n",
      "51.0\n",
      "120.0\n",
      "46.0\n",
      "63.0\n",
      "56.0\n",
      "78.0\n",
      "76.0\n",
      "31.0\n",
      "46.0\n",
      "64.0\n",
      "44.0\n",
      "109.0\n",
      "111.0\n",
      "119.0\n",
      "206.0\n",
      "197.0\n",
      "107.0\n",
      "120.0\n",
      "87.0\n",
      "4024.0\n"
     ]
    }
   ],
   "source": [
    "filtered_df = df[df['Civilians']>10]\n",
    "\n",
    "for value in filtered_df['Civilians']:\n",
    "    print(value)"
   ]
  },
  {
   "cell_type": "markdown",
   "metadata": {},
   "source": [
    "## Question 5\n",
    "a) Crate a list containing the names \"Civilians\" and \"Afghan forces\"\n",
    "\n",
    "b) From the imported data keep the the values from these two columns only. Keep in mind that \"Year\" and \"Month\" identify each column and sould remain in the dataset.\n",
    "\n",
    "c) Obtain a monthly total count of casualties for these two groups and create a line and a bar plot of them.\n"
   ]
  },
  {
   "cell_type": "code",
   "execution_count": 105,
   "metadata": {},
   "outputs": [
    {
     "name": "stdout",
     "output_type": "stream",
     "text": [
      "0   Civilians Afghan forces      Month    Year\n",
      "0        51.0            23    January  2004.0\n",
      "1         7.0             4   February  2004.0\n",
      "2         2.0           NaN      March  2004.0\n",
      "3         3.0            19      April  2004.0\n",
      "4        29.0            56        May  2004.0\n",
      "..        ...           ...        ...     ...\n",
      "68      197.0           133  September  2009.0\n",
      "69      107.0            86    October  2009.0\n",
      "70      120.0            69   November  2009.0\n",
      "71       87.0            65   December  2009.0\n",
      "72     4024.0         3,820      24498     NaN\n",
      "\n",
      "[73 rows x 4 columns]\n"
     ]
    }
   ],
   "source": [
    "# a \n",
    "list = [\"Civilians\", \"Afghan forces\"]\n",
    "\n",
    "#b\n",
    "df2 = df[list + [\"Month\",\"Year\"]]\n",
    "\n",
    "print(df2)"
   ]
  },
  {
   "cell_type": "code",
   "execution_count": 116,
   "metadata": {},
   "outputs": [
    {
     "name": "stdout",
     "output_type": "stream",
     "text": [
      "<class 'pandas.core.frame.DataFrame'>\n",
      "RangeIndex: 73 entries, 0 to 72\n",
      "Data columns (total 4 columns):\n",
      " #   Column         Non-Null Count  Dtype   \n",
      "---  ------         --------------  -----   \n",
      " 0   Civilians      73 non-null     float64 \n",
      " 1   Afghan forces  71 non-null     float64 \n",
      " 2   Month          73 non-null     category\n",
      " 3   Year           72 non-null     float64 \n",
      "dtypes: category(1), float64(3)\n",
      "memory usage: 2.6 KB\n"
     ]
    }
   ],
   "source": [
    "#c\n",
    "df2.info()"
   ]
  },
  {
   "cell_type": "code",
   "execution_count": 127,
   "metadata": {},
   "outputs": [
    {
     "name": "stdout",
     "output_type": "stream",
     "text": [
      "0   Civilians  Afghan forces      Month    Year  casualties        Month_Year\n",
      "0        51.0           23.0    January  2004.0        74.0    2004.0 January\n",
      "1         7.0            4.0   February  2004.0        11.0   2004.0 February\n",
      "2         2.0            NaN      March  2004.0         NaN      2004.0 March\n",
      "3         3.0           19.0      April  2004.0        22.0      2004.0 April\n",
      "4        29.0           56.0        May  2004.0        85.0        2004.0 May\n",
      "..        ...            ...        ...     ...         ...               ...\n",
      "68      197.0          133.0  September  2009.0       330.0  2009.0 September\n",
      "69      107.0           86.0    October  2009.0       193.0    2009.0 October\n",
      "70      120.0           69.0   November  2009.0       189.0   2009.0 November\n",
      "71       87.0           65.0   December  2009.0       152.0   2009.0 December\n",
      "72     4024.0         3820.0      24498     NaN      7844.0         nan 24498\n",
      "\n",
      "[73 rows x 6 columns]\n"
     ]
    }
   ],
   "source": [
    "db['casualties'] = df2['Civilians']+df2['Afghan forces']\n",
    "print(df2)"
   ]
  },
  {
   "cell_type": "code",
   "execution_count": 128,
   "metadata": {},
   "outputs": [],
   "source": [
    "db['Month'] = db['Month'].astype(str)\n",
    "db['Year'] = db['Year'].astype(str)\n",
    "\n",
    "db['Month_Year']=db['Year']+' '+db['Month']"
   ]
  },
  {
   "cell_type": "code",
   "execution_count": 129,
   "metadata": {},
   "outputs": [
    {
     "data": {
      "text/plain": [
       "<Axes: xlabel='Month_Year', ylabel='casualties'>"
      ]
     },
     "execution_count": 129,
     "metadata": {},
     "output_type": "execute_result"
    },
    {
     "data": {
      "image/png": "[encoded data removed]",
      "text/plain": [
       "<Figure size 640x480 with 1 Axes>"
      ]
     },
     "metadata": {},
     "output_type": "display_data"
    }
   ],
   "source": [
    "sns.barplot(x='Month_Year',y='casualties',data=df2)"
   ]
  },
  {
   "cell_type": "code",
   "execution_count": 130,
   "metadata": {},
   "outputs": [
    {
     "data": {
      "text/plain": [
       "<Axes: xlabel='Month_Year', ylabel='casualties'>"
      ]
     },
     "execution_count": 130,
     "metadata": {},
     "output_type": "execute_result"
    },
    {
     "data": {
      "image/png": "[encoded data removed]",
      "text/plain": [
       "<Figure size 640x480 with 1 Axes>"
      ]
     },
     "metadata": {},
     "output_type": "display_data"
    }
   ],
   "source": [
    "sns.lineplot(x='Month_Year',y='casualties',data=df2)"
   ]
  }
 ],
 "metadata": {
  "kernelspec": {
   "display_name": "Python 3 (ipykernel)",
   "language": "python",
   "name": "python3"
  },
  "language_info": {
   "codemirror_mode": {
    "name": "ipython",
    "version": 3
   },
   "file_extension": ".py",
   "mimetype": "text/x-python",
   "name": "python",
   "nbconvert_exporter": "python",
   "pygments_lexer": "ipython3",
   "version": "3.12.4"
  }
 },
 "nbformat": 4,
 "nbformat_minor": 4
}
